{
 "cells": [
  {
   "cell_type": "code",
   "execution_count": 1,
   "metadata": {},
   "outputs": [],
   "source": [
    "import importlib\n",
    "import requirements\n",
    "importlib.reload(requirements)\n",
    "from requirements import *"
   ]
  },
  {
   "cell_type": "code",
   "execution_count": null,
   "metadata": {},
   "outputs": [],
   "source": [
    "def grava(signal:str, samples:int, path:str='DATA/DATASET', frame_size=(1280, 720), fps=30):\n",
    "    os.makedirs(f'{path}/{signal}', exist_ok=True)\n",
    "    file_size = len(os.listdir(f'{path}/{signal}'))\n",
    "    cap = cv2.VideoCapture(0)\n",
    "    cap.set(cv2.CAP_PROP_FRAME_WIDTH, frame_size[0])\n",
    "    cap.set(cv2.CAP_PROP_FRAME_HEIGHT, frame_size[1])\n",
    "    fourcc = cv2.VideoWriter_fourcc(*'mp4v')\n",
    "    out = None\n",
    "    recording = False\n",
    "    i = 1\n",
    "    while cap.isOpened():\n",
    "        key = cv2.waitKey(1) & 0xFF\n",
    "        ret, frame = cap.read()\n",
    "        if not ret or key == ord('q') or i > samples:\n",
    "            break\n",
    "        if key == 32: # SPACE\n",
    "            if not recording:\n",
    "                video = f'{signal}{str(i+file_size)}.mp4'\n",
    "                out = cv2.VideoWriter(f\"{path}/{signal}/{video}\", fourcc, fps, (frame_size[0], frame_size[1]))\n",
    "                recording = True\n",
    "                print(\"Gravação iniciada...\")\n",
    "        elif key == 13:  # ENTER\n",
    "            if recording:\n",
    "                recording = False\n",
    "                out.release()\n",
    "                i += 1\n",
    "                print(f\"Gravação {video} salva\")\n",
    "        elif key == 27:  # ESC\n",
    "            if recording:\n",
    "                recording = False\n",
    "                out.release()\n",
    "                os.remove(f\"{path}/{signal}/{video}\")\n",
    "                print(f\"Gravação {video} cancelada.\")\n",
    "        if recording and out is not None:\n",
    "            out.write(frame)\n",
    "        color = (0, 0, 255) if recording else (255, 255, 255)\n",
    "        cv2.rectangle(frame, (0, 0), (frame_size[0]-1, frame_size[1]-1), color, 5)\n",
    "        cv2.imshow('Webcam', frame)\n",
    "    cap.release()\n",
    "    if out is not None:\n",
    "        out.release()\n",
    "    cv2.destroyAllWindows"
   ]
  },
  {
   "cell_type": "code",
   "execution_count": 6,
   "metadata": {},
   "outputs": [
    {
     "name": "stderr",
     "output_type": "stream",
     "text": [
      "Acontecer: 100%|█████████████████████████████████████████████████| 102/102 [00:00<00:00, 888.86it/s]\n",
      "America: 100%|███████████████████████████████████████████████████| 138/138 [00:00<00:00, 417.42it/s]\n",
      "Banheiro: 100%|███████████████████████████████████████████████████| 100/100 [17:37<00:00, 10.57s/it]\n",
      "Esquina: 100%|████████████████████████████████████████████████████| 140/140 [10:02<00:00,  4.30s/it]\n",
      "Sapo: 100%|███████████████████████████████████████████████████████| 139/139 [10:38<00:00,  4.59s/it]\n"
     ]
    }
   ],
   "source": [
    "twohanded = ['Acontecer', 'America', 'Banheiro', 'Esquina', 'Sapo']\n",
    "for signal in twohanded:\n",
    "    os.makedirs(f'INPUT/TWOHAND/DATASET/{signal}', exist_ok=True)\n",
    "    for video in tqdm(os.listdir(f'DATA/DATASET/{signal}'), total=len(os.listdir(f'DATA/DATASET/{signal}')), desc=signal, ncols=100):\n",
    "        if video.replace('mp4', 'parquet') not in os.listdir(f'INPUT/TWOHAND/DATASET/{signal}'):\n",
    "            landmarks = mapping(f'DATA/DATASET/{signal}/{video}')\n",
    "            if landmarks.isnull().values.any():\n",
    "                print(video)\n",
    "                continue\n",
    "            else:\n",
    "                landmarks.to_parquet(f\"INPUT/TWOHAND/DATASET/{signal}/{video.replace('mp4', 'parquet')}\")"
   ]
  },
  {
   "cell_type": "code",
   "execution_count": 14,
   "metadata": {},
   "outputs": [
    {
     "name": "stderr",
     "output_type": "stream",
     "text": [
      "A: 100%|██████████████████████████████████████████████████████████| 100/100 [05:12<00:00,  3.12s/it]\n",
      "B: 100%|████████████████████████████████████████████████████████████| 53/53 [05:20<00:00,  6.05s/it]\n",
      "C: 100%|████████████████████████████████████████████████████████████| 85/85 [05:11<00:00,  3.66s/it]\n",
      "D:  40%|████████████████████████                                    | 38/95 [04:54<06:25,  6.77s/it]"
     ]
    },
    {
     "name": "stdout",
     "output_type": "stream",
     "text": [
      "1 D Banheiro3.mp4\n"
     ]
    },
    {
     "name": "stderr",
     "output_type": "stream",
     "text": [
      "D: 100%|████████████████████████████████████████████████████████████| 95/95 [06:07<00:00,  3.87s/it]\n",
      "E: 100%|██████████████████████████████████████████████████████████| 100/100 [04:31<00:00,  2.71s/it]\n",
      "F: 100%|██████████████████████████████████████████████████████████| 100/100 [05:39<00:00,  3.39s/it]\n",
      "G: 100%|██████████████████████████████████████████████████████████| 103/103 [04:59<00:00,  2.90s/it]\n",
      "H: 100%|████████████████████████████████████████████████████████████| 99/99 [03:53<00:00,  2.35s/it]\n",
      "I: 100%|████████████████████████████████████████████████████████████| 75/75 [02:24<00:00,  1.93s/it]\n",
      "J: 100%|██████████████████████████████████████████████████████████| 100/100 [03:51<00:00,  2.31s/it]\n",
      "L: 100%|██████████████████████████████████████████████████████████| 100/100 [05:32<00:00,  3.33s/it]\n",
      "N: 100%|████████████████████████████████████████████████████████████| 99/99 [06:17<00:00,  3.81s/it]\n"
     ]
    }
   ],
   "source": [
    "twohanded = ['Acontecer', 'America', 'Banheiro', 'Esquina', 'Sapo']\n",
    "for sin in os.listdir('DATA/MINDS'):\n",
    "    for video in tqdm(os.listdir(f'DATA/MINDS/{sin}'), total=len(os.listdir(f'DATA/MINDS/{sin}')), desc=sin, ncols=100):\n",
    "        for signal in ['Acontecer', 'Banheiro']:\n",
    "            if signal in video:\n",
    "                os.makedirs(f'INPUT/TWOHAND/MINDS/{signal}', exist_ok=True)\n",
    "                landmarks1 = mapping(f'DATA/MINDS/{sin}/{video}')\n",
    "                landmarks2 = mapping(f'DATA/MINDS/{sin}/{video}', resize=4)\n",
    "                if landmarks1.isnull().values.any():\n",
    "                    print('1', sin, video)\n",
    "                    continue\n",
    "                elif landmarks2.isnull().values.any():\n",
    "                    print('2', sin, video)\n",
    "                    continue\n",
    "                else:\n",
    "                    landmarks1.to_parquet(f\"INPUT/TWOHAND/MINDS/{signal}/{signal}{len(os.listdir(f'INPUT/TWOHAND/MINDS/{signal}'))+1}.parquet\")\n",
    "                    landmarks2.to_parquet(f\"INPUT/TWOHAND/MINDS/{signal}/{signal}{len(os.listdir(f'INPUT/TWOHAND/MINDS/{signal}'))+1}.parquet\")"
   ]
  },
  {
   "cell_type": "code",
   "execution_count": 15,
   "metadata": {},
   "outputs": [
    {
     "name": "stderr",
     "output_type": "stream",
     "text": [
      "Aluno: 100%|██████████████████████████████████████████████████████| 100/100 [16:12<00:00,  9.73s/it]\n",
      "Amarelo: 100%|████████████████████████████████████████████████████| 100/100 [18:23<00:00, 11.03s/it]\n",
      "Aproveitar: 100%|█████████████████████████████████████████████████| 100/100 [14:49<00:00,  8.89s/it]\n",
      "Bala: 100%|███████████████████████████████████████████████████████| 100/100 [15:31<00:00,  9.31s/it]\n",
      "Banco: 100%|██████████████████████████████████████████████████████| 100/100 [18:21<00:00, 11.01s/it]\n",
      "Barulho: 100%|████████████████████████████████████████████████████| 100/100 [20:02<00:00, 12.03s/it]\n",
      "Cinco: 100%|██████████████████████████████████████████████████████| 100/100 [20:50<00:00, 12.51s/it]\n",
      "Conhecer: 100%|███████████████████████████████████████████████████| 100/100 [16:34<00:00,  9.95s/it]\n",
      "Espelho: 100%|████████████████████████████████████████████████████| 100/100 [20:13<00:00, 12.13s/it]\n",
      "Filho: 100%|██████████████████████████████████████████████████████| 100/100 [16:25<00:00,  9.85s/it]\n",
      "Maca: 100%|███████████████████████████████████████████████████████| 100/100 [16:06<00:00,  9.66s/it]\n",
      "Medo: 100%|███████████████████████████████████████████████████████| 100/100 [13:44<00:00,  8.25s/it]\n",
      "Ruim: 100%|███████████████████████████████████████████████████████| 100/100 [20:24<00:00, 12.24s/it]\n",
      "Vacina: 100%|█████████████████████████████████████████████████████| 100/100 [14:51<00:00,  8.92s/it]\n",
      "Vontade: 100%|████████████████████████████████████████████████████| 100/100 [20:18<00:00, 12.19s/it]\n"
     ]
    }
   ],
   "source": [
    "onehanded = ['Aluno', 'Amarelo', 'Aproveitar', 'Bala', 'Banco', 'Barulho', 'Cinco', 'Conhecer', 'Espelho', 'Filho', 'Maca', 'Medo', 'Ruim', 'Vacina', 'Vontade']\n",
    "for signal in onehanded:\n",
    "    os.makedirs(f'INPUT/ONEHAND/DATASET/{signal}', exist_ok=True)\n",
    "    for video in tqdm(os.listdir(f'DATA/DATASET/{signal}'), total=len(os.listdir(f'DATA/DATASET/{signal}')), desc=signal, ncols=100):\n",
    "        if video.replace('mp4', 'parquet') not in os.listdir(f'INPUT/ONEHAND/DATASET/{signal}'):\n",
    "            landmarks = mapping(f'DATA/DATASET/{signal}/{video}')\n",
    "            if not landmarks.iloc[:,-42:].isnull().values.all():\n",
    "                print(video)\n",
    "                continue\n",
    "            else:\n",
    "                landmarks.to_parquet(f\"INPUT/ONEHAND/DATASET/{signal}/{video.replace('mp4', 'parquet')}\")"
   ]
  },
  {
   "cell_type": "code",
   "execution_count": 32,
   "metadata": {},
   "outputs": [
    {
     "name": "stderr",
     "output_type": "stream",
     "text": [
      "A:   9%|█████▍                                                      | 9/100 [02:11<30:28, 20.10s/it]"
     ]
    },
    {
     "name": "stdout",
     "output_type": "stream",
     "text": [
      "Baixa visiblidade do pose: 0.4416827786900103\n"
     ]
    },
    {
     "name": "stderr",
     "output_type": "stream",
     "text": [
      "A: 100%|██████████████████████████████████████████████████████████| 100/100 [39:52<00:00, 23.92s/it]\n",
      "B: 100%|████████████████████████████████████████████████████████████| 53/53 [20:18<00:00, 22.98s/it]\n",
      "C: 100%|████████████████████████████████████████████████████████████| 85/85 [34:39<00:00, 24.46s/it]\n",
      "D: 100%|████████████████████████████████████████████████████████████| 95/95 [48:19<00:00, 30.52s/it]\n",
      "E: 100%|██████████████████████████████████████████████████████████| 100/100 [37:19<00:00, 22.40s/it]\n",
      "F: 100%|██████████████████████████████████████████████████████████| 100/100 [39:59<00:00, 24.00s/it]\n",
      "G: 100%|██████████████████████████████████████████████████████████| 103/103 [37:59<00:00, 22.13s/it]\n",
      "H: 100%|████████████████████████████████████████████████████████████| 99/99 [33:17<00:00, 20.17s/it]\n",
      "I: 100%|████████████████████████████████████████████████████████████| 75/75 [33:34<00:00, 26.87s/it]\n",
      "J: 100%|██████████████████████████████████████████████████████████| 100/100 [32:04<00:00, 19.25s/it]\n",
      "L: 100%|██████████████████████████████████████████████████████████| 100/100 [43:57<00:00, 26.37s/it]\n",
      "N: 100%|████████████████████████████████████████████████████████████| 99/99 [46:31<00:00, 28.20s/it]\n"
     ]
    }
   ],
   "source": [
    "onehanded = ['Aluno', 'Amarelo', 'Aproveitar', 'Bala', 'Banco', 'Barulho', 'Cinco', 'Conhecer', 'Espelho', 'Filho', 'Maca', 'Medo', 'Ruim', 'Vacina', 'Vontade']\n",
    "for sin in os.listdir('DATA/MINDS'):\n",
    "    for video in tqdm(os.listdir(f'DATA/MINDS/{sin}'), total=len(os.listdir(f'DATA/MINDS/{sin}')), desc=sin, ncols=100):\n",
    "        for signal in onehanded:\n",
    "            if signal in video:\n",
    "                os.makedirs(f'INPUT/ONEHAND/MINDS/{signal}', exist_ok=True)\n",
    "                landmarks1 = mapping(f'DATA/MINDS/{sin}/{video}')\n",
    "                landmarks2 = mapping(f'DATA/MINDS/{sin}/{video}', resize=4)\n",
    "                landmarks1.to_parquet(f\"INPUT/ONEHAND/MINDS/{signal}/{signal}{len(os.listdir(f'INPUT/ONEHAND/MINDS/{signal}'))+1}.parquet\")\n",
    "                landmarks2.to_parquet(f\"INPUT/ONEHAND/MINDS/{signal}/{signal}{len(os.listdir(f'INPUT/ONEHAND/MINDS/{signal}'))+1}.parquet\")"
   ]
  },
  {
   "cell_type": "code",
   "execution_count": 104,
   "metadata": {},
   "outputs": [],
   "source": [
    "onehanded = ['Aluno', 'Amarelo', 'Aproveitar', 'Bala', 'Banco', 'Barulho', 'Cinco', 'Conhecer', 'Espelho', 'Filho', 'Maca', 'Medo', 'Ruim', 'Vacina', 'Vontade']\n",
    "twohanded = ['Acontecer', 'America', 'Banheiro', 'Esquina', 'Sapo']\n",
    "for signal in onehanded:\n",
    "    for video in os.listdir(f'INPUT/ONEHAND/MINDS/{signal}'):\n",
    "        df = pd.read_parquet(f'INPUT/ONEHAND/MINDS/{signal}/{video}')\n",
    "        if not df.iloc[:,130:].isnull().values.all():\n",
    "            if df.iloc[:,130:][[col for col in df.iloc[:,130:].columns if 'y' in col]].mean().mean() <= 0.9:\n",
    "                print(video)"
   ]
  }
 ],
 "metadata": {
  "kernelspec": {
   "display_name": "amb",
   "language": "python",
   "name": "python3"
  },
  "language_info": {
   "codemirror_mode": {
    "name": "ipython",
    "version": 3
   },
   "file_extension": ".py",
   "mimetype": "text/x-python",
   "name": "python",
   "nbconvert_exporter": "python",
   "pygments_lexer": "ipython3",
   "version": "3.10.14"
  }
 },
 "nbformat": 4,
 "nbformat_minor": 2
}
